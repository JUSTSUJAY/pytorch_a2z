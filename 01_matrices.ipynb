{
  "cells": [
    {
      "cell_type": "markdown",
      "metadata": {
        "id": "view-in-github",
        "colab_type": "text"
      },
      "source": [
        "<a href=\"https://colab.research.google.com/github/JUSTSUJAY/pytorch_a2z/blob/main/01_matrices.ipynb\" target=\"_parent\"><img src=\"https://colab.research.google.com/assets/colab-badge.svg\" alt=\"Open In Colab\"/></a>"
      ]
    },
    {
      "cell_type": "markdown",
      "metadata": {
        "id": "extTiPaiirtq"
      },
      "source": [
        "\n",
        "# PyTorch Fundamentals"
      ]
    },
    {
      "cell_type": "markdown",
      "metadata": {
        "collapsed": true,
        "id": "WCOdbuDlirtt"
      },
      "source": [
        "## 1. Matrices\n",
        "\n",
        "\n",
        "### Matrices Brief Introduction\n",
        "- Basic definition: rectangular array of numbers.\n",
        "- Tensors (PyTorch)\n",
        "- Ndarrays (NumPy)"
      ]
    },
    {
      "cell_type": "markdown",
      "metadata": {
        "id": "pSFcbFlBirtt"
      },
      "source": [
        "**<center> 2 x 2 Matrix (R x C)</center>**"
      ]
    },
    {
      "cell_type": "markdown",
      "metadata": {
        "id": "pjHlKRKkirtu"
      },
      "source": [
        "1 | 1\n",
        "--- | ---\n",
        "1 | 1"
      ]
    },
    {
      "cell_type": "markdown",
      "metadata": {
        "id": "4-zos8UGirtu"
      },
      "source": [
        "**<center> 2 x 3 Matrix </center>**"
      ]
    },
    {
      "cell_type": "markdown",
      "metadata": {
        "id": "tWFODy1sirtu"
      },
      "source": [
        "1 | 1 | 1\n",
        "--- | ---| ---\n",
        "1 | 1 | 1"
      ]
    },
    {
      "cell_type": "markdown",
      "metadata": {
        "id": "TMl7t-Zoirtv"
      },
      "source": [
        "### 1.1 Creating Matrices"
      ]
    },
    {
      "cell_type": "code",
      "execution_count": 1,
      "metadata": {
        "collapsed": true,
        "id": "HGIHYAUvirtv"
      },
      "outputs": [],
      "source": [
        "import numpy as np"
      ]
    },
    {
      "cell_type": "code",
      "execution_count": 2,
      "metadata": {
        "colab": {
          "base_uri": "https://localhost:8080/"
        },
        "id": "0Ne3ZZUwirtw",
        "outputId": "4a6cc5f8-a847-449d-fe9c-21c1eae9156f"
      },
      "outputs": [
        {
          "output_type": "stream",
          "name": "stdout",
          "text": [
            "[[1, 2], [3, 4]]\n"
          ]
        }
      ],
      "source": [
        "# Creating a 2x2 array\n",
        "arr = [[1, 2], [3, 4]]\n",
        "print(arr)"
      ]
    },
    {
      "cell_type": "code",
      "execution_count": 3,
      "metadata": {
        "colab": {
          "base_uri": "https://localhost:8080/"
        },
        "id": "DbN3KmXVirty",
        "outputId": "3474238f-7618-4451-a987-2cb6fc65fd47"
      },
      "outputs": [
        {
          "output_type": "execute_result",
          "data": {
            "text/plain": [
              "array([[1, 2],\n",
              "       [3, 4]])"
            ]
          },
          "metadata": {},
          "execution_count": 3
        }
      ],
      "source": [
        "# Convert to NumPy\n",
        "np.array(arr)"
      ]
    },
    {
      "cell_type": "code",
      "execution_count": 4,
      "metadata": {
        "collapsed": true,
        "id": "fkoAYIe4irty"
      },
      "outputs": [],
      "source": [
        "import torch"
      ]
    },
    {
      "cell_type": "code",
      "execution_count": 5,
      "metadata": {
        "colab": {
          "base_uri": "https://localhost:8080/"
        },
        "id": "o4JRtJFDirtz",
        "outputId": "5fbaa3bf-70c9-4674-90c7-fcb986ab069f"
      },
      "outputs": [
        {
          "output_type": "execute_result",
          "data": {
            "text/plain": [
              "tensor([[1., 2.],\n",
              "        [3., 4.]])"
            ]
          },
          "metadata": {},
          "execution_count": 5
        }
      ],
      "source": [
        "# Convert to PyTorch Tensor\n",
        "torch.Tensor(arr)"
      ]
    },
    {
      "cell_type": "markdown",
      "metadata": {
        "id": "H1g8aK9Nirtz"
      },
      "source": [
        "### 1.2 Create Matrices with Default Values"
      ]
    },
    {
      "cell_type": "code",
      "execution_count": 6,
      "metadata": {
        "colab": {
          "base_uri": "https://localhost:8080/"
        },
        "id": "qHYkEcB6irt0",
        "outputId": "081e8300-a8ad-4754-cfc4-181deee24998"
      },
      "outputs": [
        {
          "output_type": "execute_result",
          "data": {
            "text/plain": [
              "array([[1., 1.],\n",
              "       [1., 1.]])"
            ]
          },
          "metadata": {},
          "execution_count": 6
        }
      ],
      "source": [
        "np.ones((2, 2))"
      ]
    },
    {
      "cell_type": "code",
      "execution_count": 7,
      "metadata": {
        "colab": {
          "base_uri": "https://localhost:8080/"
        },
        "id": "4kYLypuzirt0",
        "outputId": "82e48255-fd47-403f-917b-786fcd468e32"
      },
      "outputs": [
        {
          "output_type": "execute_result",
          "data": {
            "text/plain": [
              "tensor([[1., 1.],\n",
              "        [1., 1.]])"
            ]
          },
          "metadata": {},
          "execution_count": 7
        }
      ],
      "source": [
        "torch.ones((2, 2))"
      ]
    },
    {
      "cell_type": "code",
      "execution_count": 8,
      "metadata": {
        "colab": {
          "base_uri": "https://localhost:8080/"
        },
        "id": "BFm1_LMqirt0",
        "outputId": "a71390cd-2f9e-401f-cbea-24e34314c342"
      },
      "outputs": [
        {
          "output_type": "execute_result",
          "data": {
            "text/plain": [
              "array([[0.65713951, 0.48751781],\n",
              "       [0.32914242, 0.5976509 ]])"
            ]
          },
          "metadata": {},
          "execution_count": 8
        }
      ],
      "source": [
        "np.random.rand(2, 2)"
      ]
    },
    {
      "cell_type": "code",
      "execution_count": 9,
      "metadata": {
        "colab": {
          "base_uri": "https://localhost:8080/"
        },
        "id": "-wkrQoBxirt1",
        "outputId": "aede685f-5a52-4e3d-937b-caa557b2f553"
      },
      "outputs": [
        {
          "output_type": "execute_result",
          "data": {
            "text/plain": [
              "tensor([[0.7995, 0.1320],\n",
              "        [0.9679, 0.3605]])"
            ]
          },
          "metadata": {},
          "execution_count": 9
        }
      ],
      "source": [
        "torch.rand(2, 2)"
      ]
    },
    {
      "cell_type": "markdown",
      "metadata": {
        "id": "r9xIMo4lirt1"
      },
      "source": [
        "### 1.3 Seeds for Reproducibility"
      ]
    },
    {
      "cell_type": "code",
      "execution_count": 10,
      "metadata": {
        "colab": {
          "base_uri": "https://localhost:8080/"
        },
        "id": "emC0c5IQirt1",
        "outputId": "65c65db4-cfb5-472e-ad3a-9323745da346"
      },
      "outputs": [
        {
          "output_type": "execute_result",
          "data": {
            "text/plain": [
              "array([[0.5488135 , 0.71518937],\n",
              "       [0.60276338, 0.54488318]])"
            ]
          },
          "metadata": {},
          "execution_count": 10
        }
      ],
      "source": [
        "# Seed\n",
        "np.random.seed(0)\n",
        "np.random.rand(2, 2)"
      ]
    },
    {
      "cell_type": "code",
      "execution_count": 11,
      "metadata": {
        "colab": {
          "base_uri": "https://localhost:8080/"
        },
        "id": "qu9wpXhkirt2",
        "outputId": "fdc8f1ca-6c93-4f5c-dc2b-4c189d359390"
      },
      "outputs": [
        {
          "output_type": "execute_result",
          "data": {
            "text/plain": [
              "array([[0.5488135 , 0.71518937],\n",
              "       [0.60276338, 0.54488318]])"
            ]
          },
          "metadata": {},
          "execution_count": 11
        }
      ],
      "source": [
        "# Seed\n",
        "np.random.seed(0)\n",
        "np.random.rand(2, 2)"
      ]
    },
    {
      "cell_type": "code",
      "execution_count": 12,
      "metadata": {
        "colab": {
          "base_uri": "https://localhost:8080/"
        },
        "id": "lNqouo1-irt2",
        "outputId": "5e718853-3f48-45b0-afd3-a2c703c02a54"
      },
      "outputs": [
        {
          "output_type": "execute_result",
          "data": {
            "text/plain": [
              "array([[0.4236548 , 0.64589411],\n",
              "       [0.43758721, 0.891773  ]])"
            ]
          },
          "metadata": {},
          "execution_count": 12
        }
      ],
      "source": [
        "# No seed\n",
        "np.random.rand(2, 2)"
      ]
    },
    {
      "cell_type": "code",
      "execution_count": 13,
      "metadata": {
        "colab": {
          "base_uri": "https://localhost:8080/"
        },
        "id": "29zAggQAirt3",
        "outputId": "f46809c7-afb0-4a55-ab1e-0aa971bcc48f"
      },
      "outputs": [
        {
          "output_type": "execute_result",
          "data": {
            "text/plain": [
              "array([[0.96366276, 0.38344152],\n",
              "       [0.79172504, 0.52889492]])"
            ]
          },
          "metadata": {},
          "execution_count": 13
        }
      ],
      "source": [
        "# No seed\n",
        "np.random.rand(2, 2)"
      ]
    },
    {
      "cell_type": "code",
      "execution_count": 14,
      "metadata": {
        "colab": {
          "base_uri": "https://localhost:8080/"
        },
        "id": "x60C9Oouirt3",
        "outputId": "040b4fc0-fa3c-4a5e-c056-b9beae2499b0"
      },
      "outputs": [
        {
          "output_type": "execute_result",
          "data": {
            "text/plain": [
              "tensor([[0.4963, 0.7682],\n",
              "        [0.0885, 0.1320]])"
            ]
          },
          "metadata": {},
          "execution_count": 14
        }
      ],
      "source": [
        "# Torch Seed\n",
        "torch.manual_seed(0)\n",
        "torch.rand(2, 2)"
      ]
    },
    {
      "cell_type": "code",
      "execution_count": 15,
      "metadata": {
        "colab": {
          "base_uri": "https://localhost:8080/"
        },
        "id": "raTUIjn0irt3",
        "outputId": "9ed78b43-16d1-412a-fd2d-114ff1bc1599"
      },
      "outputs": [
        {
          "output_type": "execute_result",
          "data": {
            "text/plain": [
              "tensor([[0.4963, 0.7682],\n",
              "        [0.0885, 0.1320]])"
            ]
          },
          "metadata": {},
          "execution_count": 15
        }
      ],
      "source": [
        "# Torch Seed\n",
        "torch.manual_seed(0)\n",
        "torch.rand(2, 2)"
      ]
    },
    {
      "cell_type": "code",
      "execution_count": 16,
      "metadata": {
        "colab": {
          "base_uri": "https://localhost:8080/"
        },
        "id": "pAPTc-Zkirt3",
        "outputId": "ffef3e6e-afc3-437f-8d34-3b3d0c211fb2"
      },
      "outputs": [
        {
          "output_type": "execute_result",
          "data": {
            "text/plain": [
              "tensor([[0.3074, 0.6341],\n",
              "        [0.4901, 0.8964]])"
            ]
          },
          "metadata": {},
          "execution_count": 16
        }
      ],
      "source": [
        "# Torch No Seed\n",
        "torch.rand(2, 2)"
      ]
    },
    {
      "cell_type": "code",
      "execution_count": 17,
      "metadata": {
        "colab": {
          "base_uri": "https://localhost:8080/"
        },
        "id": "r9l7nUjSirt4",
        "outputId": "32dcac6d-3d29-4df3-d9c4-f6653520a12a"
      },
      "outputs": [
        {
          "output_type": "execute_result",
          "data": {
            "text/plain": [
              "tensor([[0.4556, 0.6323],\n",
              "        [0.3489, 0.4017]])"
            ]
          },
          "metadata": {},
          "execution_count": 17
        }
      ],
      "source": [
        "# Torch No Seed\n",
        "torch.rand(2, 2)"
      ]
    },
    {
      "cell_type": "markdown",
      "metadata": {
        "id": "KmYMwZd8irt4"
      },
      "source": [
        "**Seed for GPU is different for now...**"
      ]
    },
    {
      "cell_type": "code",
      "execution_count": 18,
      "metadata": {
        "id": "OKtkwmsPirt4"
      },
      "outputs": [],
      "source": [
        "if torch.cuda.is_available():\n",
        "    torch.cuda.manual_seed_all(0)"
      ]
    },
    {
      "cell_type": "markdown",
      "metadata": {
        "id": "xNlBaspiirt4"
      },
      "source": [
        "### 1.3 NumPy and Torch Bridge"
      ]
    },
    {
      "cell_type": "markdown",
      "metadata": {
        "id": "mdCGgEH2irt4"
      },
      "source": [
        "### NumPy to Torch"
      ]
    },
    {
      "cell_type": "code",
      "execution_count": 19,
      "metadata": {
        "id": "3tEoeYNvirt5"
      },
      "outputs": [],
      "source": [
        "# Numpy array\n",
        "np_array = np.ones((2, 2))"
      ]
    },
    {
      "cell_type": "code",
      "execution_count": 20,
      "metadata": {
        "colab": {
          "base_uri": "https://localhost:8080/"
        },
        "id": "ZSWHzqGyirt5",
        "outputId": "1c25af0c-995e-4173-a502-4cbe20386bba"
      },
      "outputs": [
        {
          "output_type": "stream",
          "name": "stdout",
          "text": [
            "[[1. 1.]\n",
            " [1. 1.]]\n"
          ]
        }
      ],
      "source": [
        "print(np_array)"
      ]
    },
    {
      "cell_type": "code",
      "execution_count": 21,
      "metadata": {
        "colab": {
          "base_uri": "https://localhost:8080/"
        },
        "id": "W6ocCTDNirt5",
        "outputId": "cd11f12d-5199-48db-a908-206954ea1842"
      },
      "outputs": [
        {
          "output_type": "stream",
          "name": "stdout",
          "text": [
            "<class 'numpy.ndarray'>\n"
          ]
        }
      ],
      "source": [
        "print(type(np_array))"
      ]
    },
    {
      "cell_type": "code",
      "execution_count": 22,
      "metadata": {
        "collapsed": true,
        "id": "QgVCvl39irt6"
      },
      "outputs": [],
      "source": [
        "# Convert to Torch Tensor\n",
        "torch_tensor = torch.from_numpy(np_array)"
      ]
    },
    {
      "cell_type": "code",
      "execution_count": 23,
      "metadata": {
        "colab": {
          "base_uri": "https://localhost:8080/"
        },
        "id": "49lumAynirt6",
        "outputId": "c0bbcb64-41b3-4726-df17-88d693a0e5ae"
      },
      "outputs": [
        {
          "output_type": "stream",
          "name": "stdout",
          "text": [
            "tensor([[1., 1.],\n",
            "        [1., 1.]], dtype=torch.float64)\n"
          ]
        }
      ],
      "source": [
        "print(torch_tensor)"
      ]
    },
    {
      "cell_type": "code",
      "execution_count": 24,
      "metadata": {
        "colab": {
          "base_uri": "https://localhost:8080/"
        },
        "id": "UqCay5FCirt6",
        "outputId": "038807c4-255a-4406-81ab-3ec863806cfb"
      },
      "outputs": [
        {
          "output_type": "stream",
          "name": "stdout",
          "text": [
            "<class 'torch.Tensor'>\n"
          ]
        }
      ],
      "source": [
        "print(type(torch_tensor))"
      ]
    },
    {
      "cell_type": "code",
      "execution_count": 25,
      "metadata": {
        "colab": {
          "base_uri": "https://localhost:8080/"
        },
        "id": "2MlJ4oV1irt6",
        "outputId": "9be8a348-53c1-4776-c3ef-81d270f42ec8"
      },
      "outputs": [
        {
          "output_type": "execute_result",
          "data": {
            "text/plain": [
              "tensor([[1, 1],\n",
              "        [1, 1]], dtype=torch.int8)"
            ]
          },
          "metadata": {},
          "execution_count": 25
        }
      ],
      "source": [
        "# Data types matter: intentional error\n",
        "np_array_new = np.ones((2, 2), dtype=np.int8)\n",
        "torch.from_numpy(np_array_new)"
      ]
    },
    {
      "cell_type": "markdown",
      "metadata": {
        "id": "0AiHPCxkirt7"
      },
      "source": [
        "**The conversion supports:**\n",
        "1. `double`\n",
        "2. `float`\n",
        "3. `int64`, `int32`, `uint8`"
      ]
    },
    {
      "cell_type": "code",
      "execution_count": 26,
      "metadata": {
        "colab": {
          "base_uri": "https://localhost:8080/"
        },
        "id": "mmyFSsy3irt7",
        "outputId": "0191961d-93fe-458d-caf6-2975dd16e2b0"
      },
      "outputs": [
        {
          "output_type": "execute_result",
          "data": {
            "text/plain": [
              "tensor([[1, 1],\n",
              "        [1, 1]])"
            ]
          },
          "metadata": {},
          "execution_count": 26
        }
      ],
      "source": [
        "# Data types matter\n",
        "np_array_new = np.ones((2, 2), dtype=np.int64)\n",
        "torch.from_numpy(np_array_new)"
      ]
    },
    {
      "cell_type": "code",
      "execution_count": 27,
      "metadata": {
        "colab": {
          "base_uri": "https://localhost:8080/"
        },
        "id": "hyFubCxtiruI",
        "outputId": "64a21ff6-a08a-407e-c53d-305ccde8965a"
      },
      "outputs": [
        {
          "output_type": "execute_result",
          "data": {
            "text/plain": [
              "tensor([[1, 1],\n",
              "        [1, 1]], dtype=torch.int32)"
            ]
          },
          "metadata": {},
          "execution_count": 27
        }
      ],
      "source": [
        "# Data types matter\n",
        "np_array_new = np.ones((2, 2), dtype=np.int32)\n",
        "torch.from_numpy(np_array_new)"
      ]
    },
    {
      "cell_type": "code",
      "execution_count": 28,
      "metadata": {
        "colab": {
          "base_uri": "https://localhost:8080/"
        },
        "id": "p8EWaBPdiruJ",
        "outputId": "bd0f49a6-6e48-42d5-ef2d-8b7f5e57d599"
      },
      "outputs": [
        {
          "output_type": "execute_result",
          "data": {
            "text/plain": [
              "tensor([[1, 1],\n",
              "        [1, 1]], dtype=torch.uint8)"
            ]
          },
          "metadata": {},
          "execution_count": 28
        }
      ],
      "source": [
        "# Data types matter\n",
        "np_array_new = np.ones((2, 2), dtype=np.uint8)\n",
        "torch.from_numpy(np_array_new)"
      ]
    },
    {
      "cell_type": "code",
      "execution_count": 29,
      "metadata": {
        "colab": {
          "base_uri": "https://localhost:8080/"
        },
        "id": "JJ175jcYiruJ",
        "outputId": "e103ee6d-0c66-463c-89b1-596553d84afd"
      },
      "outputs": [
        {
          "output_type": "execute_result",
          "data": {
            "text/plain": [
              "tensor([[1., 1.],\n",
              "        [1., 1.]], dtype=torch.float64)"
            ]
          },
          "metadata": {},
          "execution_count": 29
        }
      ],
      "source": [
        "# Data types matter\n",
        "np_array_new = np.ones((2, 2), dtype=np.float64)\n",
        "torch.from_numpy(np_array_new)"
      ]
    },
    {
      "cell_type": "code",
      "execution_count": 30,
      "metadata": {
        "colab": {
          "base_uri": "https://localhost:8080/"
        },
        "id": "-PFUpQaoiruJ",
        "outputId": "ccf2604a-7c47-4181-dd86-b80c057b5694"
      },
      "outputs": [
        {
          "output_type": "execute_result",
          "data": {
            "text/plain": [
              "tensor([[1., 1.],\n",
              "        [1., 1.]])"
            ]
          },
          "metadata": {},
          "execution_count": 30
        }
      ],
      "source": [
        "# Data types matter\n",
        "np_array_new = np.ones((2, 2), dtype=np.float32)\n",
        "torch.from_numpy(np_array_new)"
      ]
    },
    {
      "cell_type": "code",
      "execution_count": 31,
      "metadata": {
        "colab": {
          "base_uri": "https://localhost:8080/"
        },
        "id": "OAvNiLs9iruK",
        "outputId": "72b5a848-7ce9-4c16-9a48-e8c17932cf0f"
      },
      "outputs": [
        {
          "output_type": "execute_result",
          "data": {
            "text/plain": [
              "tensor([[1., 1.],\n",
              "        [1., 1.]], dtype=torch.float64)"
            ]
          },
          "metadata": {},
          "execution_count": 31
        }
      ],
      "source": [
        "# Data types matter\n",
        "np_array_new = np.ones((2, 2), dtype=np.double)\n",
        "torch.from_numpy(np_array_new)"
      ]
    },
    {
      "cell_type": "markdown",
      "metadata": {
        "id": "V7z0bKR4iruK"
      },
      "source": [
        "**Summary**\n",
        "<br />These things don't matter much now. But later when you see error messages that require these particular tensor types, refer to this guide!"
      ]
    },
    {
      "cell_type": "markdown",
      "metadata": {
        "id": "PjyTDXmGiruK"
      },
      "source": [
        "| NumPy Array Type        | Torch Tensor Type           |\n",
        "| :-------------: |:--------------:|\n",
        "| int64     | LongTensor |\n",
        "| int32     | IntegerTensor |\n",
        "| uint8      | ByteTensor      |\n",
        "| float64 | DoubleTensor     |\n",
        "| float32 | FloatTensor      |\n",
        "| double | DoubleTensor      |"
      ]
    },
    {
      "cell_type": "markdown",
      "metadata": {
        "id": "aN5-DHxwiruK"
      },
      "source": [
        "### Torch to NumPy"
      ]
    },
    {
      "cell_type": "code",
      "execution_count": 32,
      "metadata": {
        "collapsed": true,
        "id": "3gG3y-m6iruK"
      },
      "outputs": [],
      "source": [
        "torch_tensor = torch.ones(2, 2)"
      ]
    },
    {
      "cell_type": "code",
      "execution_count": 33,
      "metadata": {
        "colab": {
          "base_uri": "https://localhost:8080/"
        },
        "id": "r0uoTKb9iruK",
        "outputId": "354ae5ab-9e94-4665-c77a-86a1fda6279c"
      },
      "outputs": [
        {
          "output_type": "execute_result",
          "data": {
            "text/plain": [
              "torch.Tensor"
            ]
          },
          "metadata": {},
          "execution_count": 33
        }
      ],
      "source": [
        "type(torch_tensor)"
      ]
    },
    {
      "cell_type": "code",
      "execution_count": 34,
      "metadata": {
        "collapsed": true,
        "id": "WcuK9hKIiruL"
      },
      "outputs": [],
      "source": [
        "torch_to_numpy = torch_tensor.numpy()"
      ]
    },
    {
      "cell_type": "code",
      "execution_count": 35,
      "metadata": {
        "colab": {
          "base_uri": "https://localhost:8080/"
        },
        "id": "-77iefIDiruL",
        "outputId": "77276834-506e-4369-de09-58987b06c2b0"
      },
      "outputs": [
        {
          "output_type": "execute_result",
          "data": {
            "text/plain": [
              "numpy.ndarray"
            ]
          },
          "metadata": {},
          "execution_count": 35
        }
      ],
      "source": [
        "type(torch_to_numpy)"
      ]
    },
    {
      "cell_type": "markdown",
      "metadata": {
        "id": "vAbSMwrAiruL"
      },
      "source": [
        "### 1.4 Tensors on CPU vs GPU"
      ]
    },
    {
      "cell_type": "code",
      "execution_count": 36,
      "metadata": {
        "collapsed": true,
        "id": "9yMCztKJiruL"
      },
      "outputs": [],
      "source": [
        "# CPU\n",
        "tensor_cpu = torch.ones(2, 2)"
      ]
    },
    {
      "cell_type": "code",
      "execution_count": 37,
      "metadata": {
        "collapsed": true,
        "id": "GYWwcLPGiruL"
      },
      "outputs": [],
      "source": [
        "# CPU to GPU\n",
        "if torch.cuda.is_available():\n",
        "    tensor_cpu.cuda() #adds that tensor to GPU so the computations are faster"
      ]
    },
    {
      "cell_type": "code",
      "execution_count": 38,
      "metadata": {
        "colab": {
          "base_uri": "https://localhost:8080/"
        },
        "id": "qmf7dXyxiruL",
        "outputId": "02bfa4c8-cb08-448d-e6bc-72d420d73ab4"
      },
      "outputs": [
        {
          "output_type": "execute_result",
          "data": {
            "text/plain": [
              "tensor([[1., 1.],\n",
              "        [1., 1.]])"
            ]
          },
          "metadata": {},
          "execution_count": 38
        }
      ],
      "source": [
        "# GPU to CPU\n",
        "tensor_cpu.cpu()"
      ]
    },
    {
      "cell_type": "markdown",
      "metadata": {
        "id": "j2Ley0ILiruL"
      },
      "source": [
        "### 1.5 Tensor Operations"
      ]
    },
    {
      "cell_type": "markdown",
      "metadata": {
        "id": "MMjQhmGjiruM"
      },
      "source": [
        "### Resizing Tensor"
      ]
    },
    {
      "cell_type": "code",
      "execution_count": 39,
      "metadata": {
        "colab": {
          "base_uri": "https://localhost:8080/"
        },
        "id": "wEB3QqaliruM",
        "outputId": "5fbdac69-5430-4ce6-ec22-ead9741aed64"
      },
      "outputs": [
        {
          "output_type": "stream",
          "name": "stdout",
          "text": [
            "tensor([[1., 1.],\n",
            "        [1., 1.]])\n"
          ]
        }
      ],
      "source": [
        "a = torch.ones(2, 2)\n",
        "print(a)"
      ]
    },
    {
      "cell_type": "code",
      "execution_count": 40,
      "metadata": {
        "colab": {
          "base_uri": "https://localhost:8080/"
        },
        "id": "-uO7lB1ciruM",
        "outputId": "e61aa051-e47b-4158-bb38-b1ea4294e6fa"
      },
      "outputs": [
        {
          "output_type": "stream",
          "name": "stdout",
          "text": [
            "torch.Size([2, 2])\n"
          ]
        }
      ],
      "source": [
        "print(a.size())"
      ]
    },
    {
      "cell_type": "code",
      "execution_count": 41,
      "metadata": {
        "colab": {
          "base_uri": "https://localhost:8080/"
        },
        "id": "8lmZS47iiruM",
        "outputId": "cd0c72c9-0aec-4824-dba8-a6e11916843d"
      },
      "outputs": [
        {
          "output_type": "execute_result",
          "data": {
            "text/plain": [
              "tensor([1., 1., 1., 1.])"
            ]
          },
          "metadata": {},
          "execution_count": 41
        }
      ],
      "source": [
        "a.view(4) # changes is temporary not inline"
      ]
    },
    {
      "cell_type": "code",
      "source": [
        "a"
      ],
      "metadata": {
        "colab": {
          "base_uri": "https://localhost:8080/"
        },
        "id": "Hemx7a4fkGY2",
        "outputId": "bea6f890-eb4e-4027-8f68-3d34a2a20f36"
      },
      "execution_count": 42,
      "outputs": [
        {
          "output_type": "execute_result",
          "data": {
            "text/plain": [
              "tensor([[1., 1.],\n",
              "        [1., 1.]])"
            ]
          },
          "metadata": {},
          "execution_count": 42
        }
      ]
    },
    {
      "cell_type": "code",
      "execution_count": 43,
      "metadata": {
        "colab": {
          "base_uri": "https://localhost:8080/"
        },
        "id": "1t2X7caAiruM",
        "outputId": "5fde96ff-5cc0-48f2-d4ec-6c6a727f4713"
      },
      "outputs": [
        {
          "output_type": "execute_result",
          "data": {
            "text/plain": [
              "torch.Size([4])"
            ]
          },
          "metadata": {},
          "execution_count": 43
        }
      ],
      "source": [
        "a.view(4).size()"
      ]
    },
    {
      "cell_type": "markdown",
      "metadata": {
        "id": "06GcR4H-iruM"
      },
      "source": [
        "### Element-wise Addition"
      ]
    },
    {
      "cell_type": "code",
      "execution_count": 44,
      "metadata": {
        "colab": {
          "base_uri": "https://localhost:8080/"
        },
        "id": "R-FRCG4piruN",
        "outputId": "73ddcf11-05bb-4a9a-c93b-93a3d72b3326"
      },
      "outputs": [
        {
          "output_type": "stream",
          "name": "stdout",
          "text": [
            "tensor([[1., 1.],\n",
            "        [1., 1.]])\n"
          ]
        }
      ],
      "source": [
        "a = torch.ones(2, 2)\n",
        "print(a)"
      ]
    },
    {
      "cell_type": "code",
      "execution_count": 45,
      "metadata": {
        "colab": {
          "base_uri": "https://localhost:8080/"
        },
        "id": "L6xSr2YViruN",
        "outputId": "78b332f1-2183-41d1-abd6-6f1b13da6402"
      },
      "outputs": [
        {
          "output_type": "stream",
          "name": "stdout",
          "text": [
            "tensor([[1., 1.],\n",
            "        [1., 1.]])\n"
          ]
        }
      ],
      "source": [
        "b = torch.ones(2, 2)\n",
        "print(b)"
      ]
    },
    {
      "cell_type": "code",
      "execution_count": 46,
      "metadata": {
        "colab": {
          "base_uri": "https://localhost:8080/"
        },
        "id": "6A7p6gUiiruN",
        "outputId": "868fe49d-1d49-47fa-b1f3-1282100ccf78"
      },
      "outputs": [
        {
          "output_type": "stream",
          "name": "stdout",
          "text": [
            "tensor([[2., 2.],\n",
            "        [2., 2.]])\n"
          ]
        }
      ],
      "source": [
        "# Element-wise addition\n",
        "c = a + b\n",
        "print(c)"
      ]
    },
    {
      "cell_type": "code",
      "execution_count": null,
      "metadata": {
        "id": "Kp25laiFiruN",
        "outputId": "0054aece-5775-4213-80b3-41c496d14a39"
      },
      "outputs": [
        {
          "name": "stdout",
          "output_type": "stream",
          "text": [
            "\n",
            " 2  2\n",
            " 2  2\n",
            "[torch.FloatTensor of size 2x2]\n",
            "\n"
          ]
        }
      ],
      "source": [
        "# Element-wise addition\n",
        "c = torch.add(a, b)\n",
        "print(c)"
      ]
    },
    {
      "cell_type": "code",
      "execution_count": 47,
      "metadata": {
        "colab": {
          "base_uri": "https://localhost:8080/"
        },
        "id": "tspExJk8iruN",
        "outputId": "a4549e6c-c2ff-4f74-d00e-4d596c8bc07c"
      },
      "outputs": [
        {
          "output_type": "stream",
          "name": "stdout",
          "text": [
            "Old c tensor\n",
            "tensor([[2., 2.],\n",
            "        [2., 2.]])\n",
            "------------------------------------------------------------\n",
            "New c tensor\n",
            "tensor([[3., 3.],\n",
            "        [3., 3.]])\n"
          ]
        }
      ],
      "source": [
        "# In-place addition\n",
        "print('Old c tensor')\n",
        "print(c)\n",
        "\n",
        "c.add_(a)\n",
        "\n",
        "print('-'*60)\n",
        "print('New c tensor')\n",
        "print(c)"
      ]
    },
    {
      "cell_type": "markdown",
      "metadata": {
        "id": "IC3qIMAqiruN"
      },
      "source": [
        "### Element-wise Subtraction"
      ]
    },
    {
      "cell_type": "code",
      "execution_count": 48,
      "metadata": {
        "colab": {
          "base_uri": "https://localhost:8080/"
        },
        "id": "wEdTNigSiruN",
        "outputId": "f3064e17-804d-4c53-c02f-76bfe3cf22c8"
      },
      "outputs": [
        {
          "output_type": "stream",
          "name": "stdout",
          "text": [
            "tensor([[1., 1.],\n",
            "        [1., 1.]])\n",
            "tensor([[1., 1.],\n",
            "        [1., 1.]])\n"
          ]
        }
      ],
      "source": [
        "print(a)\n",
        "print(b)"
      ]
    },
    {
      "cell_type": "code",
      "execution_count": 49,
      "metadata": {
        "colab": {
          "base_uri": "https://localhost:8080/"
        },
        "id": "lK3nllQCiruO",
        "outputId": "ac1eee72-8c30-4cad-ba05-372c17d61d57"
      },
      "outputs": [
        {
          "output_type": "execute_result",
          "data": {
            "text/plain": [
              "tensor([[0., 0.],\n",
              "        [0., 0.]])"
            ]
          },
          "metadata": {},
          "execution_count": 49
        }
      ],
      "source": [
        "a - b"
      ]
    },
    {
      "cell_type": "code",
      "execution_count": 50,
      "metadata": {
        "colab": {
          "base_uri": "https://localhost:8080/"
        },
        "id": "a5EaWkUCiruO",
        "outputId": "7b27b3ee-007a-4ca9-9f24-10949f86ebfc"
      },
      "outputs": [
        {
          "output_type": "stream",
          "name": "stdout",
          "text": [
            "tensor([[0., 0.],\n",
            "        [0., 0.]])\n",
            "tensor([[1., 1.],\n",
            "        [1., 1.]])\n"
          ]
        }
      ],
      "source": [
        "# Not in-place\n",
        "print(a.sub(b))\n",
        "print(a)"
      ]
    },
    {
      "cell_type": "code",
      "execution_count": 51,
      "metadata": {
        "colab": {
          "base_uri": "https://localhost:8080/"
        },
        "id": "Qd2GMKlwiruO",
        "outputId": "9e452899-841f-49f7-b78f-920bcc58ee16"
      },
      "outputs": [
        {
          "output_type": "stream",
          "name": "stdout",
          "text": [
            "tensor([[0., 0.],\n",
            "        [0., 0.]])\n",
            "tensor([[0., 0.],\n",
            "        [0., 0.]])\n"
          ]
        }
      ],
      "source": [
        "# Inplace\n",
        "print(a.sub_(b))\n",
        "print(a)"
      ]
    },
    {
      "cell_type": "markdown",
      "metadata": {
        "id": "ltxbvxpAiruO"
      },
      "source": [
        "### Element-Wise Multiplication"
      ]
    },
    {
      "cell_type": "code",
      "execution_count": 52,
      "metadata": {
        "colab": {
          "base_uri": "https://localhost:8080/"
        },
        "id": "WkCioCI1iruO",
        "outputId": "13e6232b-3192-4fe9-e6bf-970ba3fe608a"
      },
      "outputs": [
        {
          "output_type": "stream",
          "name": "stdout",
          "text": [
            "tensor([[1., 1.],\n",
            "        [1., 1.]])\n",
            "tensor([[0., 0.],\n",
            "        [0., 0.]])\n"
          ]
        }
      ],
      "source": [
        "a = torch.ones(2, 2)\n",
        "print(a)\n",
        "b = torch.zeros(2, 2)\n",
        "print(b)"
      ]
    },
    {
      "cell_type": "code",
      "execution_count": 53,
      "metadata": {
        "colab": {
          "base_uri": "https://localhost:8080/"
        },
        "id": "MPi4gfGPiruO",
        "outputId": "a4885cea-7ff7-4177-eec9-30e166afe60d"
      },
      "outputs": [
        {
          "output_type": "execute_result",
          "data": {
            "text/plain": [
              "tensor([[0., 0.],\n",
              "        [0., 0.]])"
            ]
          },
          "metadata": {},
          "execution_count": 53
        }
      ],
      "source": [
        "a * b"
      ]
    },
    {
      "cell_type": "code",
      "execution_count": 54,
      "metadata": {
        "colab": {
          "base_uri": "https://localhost:8080/"
        },
        "id": "tO1-UNAJiruO",
        "outputId": "84d06c73-e067-42d4-b12c-a5f1cd3c38e6"
      },
      "outputs": [
        {
          "output_type": "stream",
          "name": "stdout",
          "text": [
            "tensor([[0., 0.],\n",
            "        [0., 0.]])\n",
            "tensor([[1., 1.],\n",
            "        [1., 1.]])\n"
          ]
        }
      ],
      "source": [
        "# Not in-place\n",
        "print(torch.mul(a, b))\n",
        "print(a)"
      ]
    },
    {
      "cell_type": "code",
      "execution_count": 55,
      "metadata": {
        "colab": {
          "base_uri": "https://localhost:8080/"
        },
        "id": "e3m8AGLyiruP",
        "outputId": "68bb8afb-b495-4e0e-f89c-f25efbb59ca5"
      },
      "outputs": [
        {
          "output_type": "stream",
          "name": "stdout",
          "text": [
            "tensor([[0., 0.],\n",
            "        [0., 0.]])\n",
            "tensor([[0., 0.],\n",
            "        [0., 0.]])\n"
          ]
        }
      ],
      "source": [
        "# In-place\n",
        "print(a.mul_(b))\n",
        "print(a)"
      ]
    },
    {
      "cell_type": "markdown",
      "metadata": {
        "id": "uZzG5wUCiruP"
      },
      "source": [
        "### Element-Wise Division"
      ]
    },
    {
      "cell_type": "code",
      "execution_count": 56,
      "metadata": {
        "id": "dFR1VmdDiruP"
      },
      "outputs": [],
      "source": [
        "a = torch.ones(2, 2)\n",
        "b = torch.zeros(2, 2)"
      ]
    },
    {
      "cell_type": "code",
      "execution_count": null,
      "metadata": {
        "id": "_gTb1sGdiruP",
        "outputId": "37801d36-d972-482d-934a-167783ff305c"
      },
      "outputs": [
        {
          "data": {
            "text/plain": [
              "\n",
              " 0  0\n",
              " 0  0\n",
              "[torch.FloatTensor of size 2x2]"
            ]
          },
          "execution_count": 57,
          "metadata": {},
          "output_type": "execute_result"
        }
      ],
      "source": [
        "b / a"
      ]
    },
    {
      "cell_type": "code",
      "execution_count": 57,
      "metadata": {
        "colab": {
          "base_uri": "https://localhost:8080/"
        },
        "id": "xip3pkcpiruP",
        "outputId": "46356db0-5ba1-4606-d606-a94197d1f749"
      },
      "outputs": [
        {
          "output_type": "execute_result",
          "data": {
            "text/plain": [
              "tensor([[0., 0.],\n",
              "        [0., 0.]])"
            ]
          },
          "metadata": {},
          "execution_count": 57
        }
      ],
      "source": [
        "torch.div(b, a)"
      ]
    },
    {
      "cell_type": "code",
      "execution_count": 58,
      "metadata": {
        "colab": {
          "base_uri": "https://localhost:8080/"
        },
        "id": "b-6ibGLHiruP",
        "outputId": "278e6145-9d15-4394-a14d-4da81369d48a"
      },
      "outputs": [
        {
          "output_type": "execute_result",
          "data": {
            "text/plain": [
              "tensor([[0., 0.],\n",
              "        [0., 0.]])"
            ]
          },
          "metadata": {},
          "execution_count": 58
        }
      ],
      "source": [
        "# Inplace\n",
        "b.div_(a)"
      ]
    },
    {
      "cell_type": "markdown",
      "metadata": {
        "id": "uDsZIPSXiruP"
      },
      "source": [
        "### Tensor Mean"
      ]
    },
    {
      "cell_type": "markdown",
      "metadata": {
        "id": "Wo-8Ss_HiruP"
      },
      "source": [
        "- $1 + 2 + 3 + 4 + 5 + 6 + 7 + 8 + 9 + 10 = 55$\n",
        "- $mean = 55 /10 = 5.5$\n"
      ]
    },
    {
      "cell_type": "code",
      "execution_count": 59,
      "metadata": {
        "colab": {
          "base_uri": "https://localhost:8080/"
        },
        "id": "IobOSrI-iruQ",
        "outputId": "6603e343-a83e-4652-8c39-22d0a8792fe7"
      },
      "outputs": [
        {
          "output_type": "execute_result",
          "data": {
            "text/plain": [
              "torch.Size([10])"
            ]
          },
          "metadata": {},
          "execution_count": 59
        }
      ],
      "source": [
        "a = torch.Tensor([1, 2, 3, 4, 5, 6, 7, 8, 9, 10])\n",
        "a.size()"
      ]
    },
    {
      "cell_type": "code",
      "execution_count": 62,
      "metadata": {
        "colab": {
          "base_uri": "https://localhost:8080/"
        },
        "id": "yEcVyPX3iruQ",
        "outputId": "20f3ddab-e7a1-42d4-bda3-315e0a70fd8c"
      },
      "outputs": [
        {
          "output_type": "execute_result",
          "data": {
            "text/plain": [
              "tensor(5.5000)"
            ]
          },
          "metadata": {},
          "execution_count": 62
        }
      ],
      "source": [
        "a.mean(dim=0) # along a row"
      ]
    },
    {
      "cell_type": "code",
      "execution_count": 61,
      "metadata": {
        "colab": {
          "base_uri": "https://localhost:8080/"
        },
        "id": "jEcqinkjiruQ",
        "outputId": "5b209c5f-ca59-44b0-c6c5-2eda24304cf1"
      },
      "outputs": [
        {
          "output_type": "execute_result",
          "data": {
            "text/plain": [
              "tensor(5.5000)"
            ]
          },
          "metadata": {},
          "execution_count": 61
        }
      ],
      "source": [
        "a.mean(dim=-1)"
      ]
    },
    {
      "cell_type": "code",
      "execution_count": 63,
      "metadata": {
        "collapsed": true,
        "id": "iqiPoR36iruQ"
      },
      "outputs": [],
      "source": [
        "a = torch.Tensor([[1, 2, 3, 4, 5, 6, 7, 8, 9, 10], [1, 2, 3, 4, 5, 6, 7, 8, 9, 10]])"
      ]
    },
    {
      "cell_type": "code",
      "execution_count": 64,
      "metadata": {
        "colab": {
          "base_uri": "https://localhost:8080/"
        },
        "id": "ZAxGGyQEiruQ",
        "outputId": "f2b9da53-6e6b-42b6-9f5a-d828c2454f8e"
      },
      "outputs": [
        {
          "output_type": "execute_result",
          "data": {
            "text/plain": [
              "torch.Size([2, 10])"
            ]
          },
          "metadata": {},
          "execution_count": 64
        }
      ],
      "source": [
        "a.size()"
      ]
    },
    {
      "cell_type": "code",
      "execution_count": 65,
      "metadata": {
        "colab": {
          "base_uri": "https://localhost:8080/"
        },
        "id": "RJR9YO5viruQ",
        "outputId": "883f6733-a407-4967-ae58-abc44af6e800"
      },
      "outputs": [
        {
          "output_type": "execute_result",
          "data": {
            "text/plain": [
              "tensor([5.5000, 5.5000])"
            ]
          },
          "metadata": {},
          "execution_count": 65
        }
      ],
      "source": [
        "a.mean(dim=1)"
      ]
    },
    {
      "cell_type": "markdown",
      "metadata": {
        "id": "MkLtzZyJiruQ"
      },
      "source": [
        "## Tensor Standard Deviation"
      ]
    },
    {
      "cell_type": "code",
      "execution_count": 66,
      "metadata": {
        "colab": {
          "base_uri": "https://localhost:8080/"
        },
        "id": "OZjjeYG7iruR",
        "outputId": "d4fa81dc-dac0-43a2-efa7-68af574940df"
      },
      "outputs": [
        {
          "output_type": "execute_result",
          "data": {
            "text/plain": [
              "tensor(3.0277)"
            ]
          },
          "metadata": {},
          "execution_count": 66
        }
      ],
      "source": [
        "a = torch.Tensor([1, 2, 3, 4, 5, 6, 7, 8, 9, 10])\n",
        "a.std(dim=0)"
      ]
    },
    {
      "cell_type": "markdown",
      "metadata": {
        "id": "Lyxn_abliruR"
      },
      "source": [
        "---\n",
        "# We've learnt to...\n",
        "1. Create Matrices\n",
        "2. Create Matrices with Default Initialization Values\n",
        "    - Zeros\n",
        "    - Ones\n",
        "3. Initialize Seeds for Reproducibility on GPU and CPU\n",
        "4. Convert Matrices: NumPy => Torch and Torch => NumPy\n",
        "5. Move Tensors: CPU => GPU and GPU => CPU\n",
        "6. Run Important Tensor Operations\n",
        "    - Element-wise addition, subtraction, multiplication and division\n",
        "    - Resize\n",
        "    - Calculate mean\n",
        "    - Calculate standard deviation"
      ]
    }
  ],
  "metadata": {
    "anaconda-cloud": {},
    "kernelspec": {
      "display_name": "Python 3",
      "language": "python",
      "name": "python3"
    },
    "language_info": {
      "codemirror_mode": {
        "name": "ipython",
        "version": 3
      },
      "file_extension": ".py",
      "mimetype": "text/x-python",
      "name": "python",
      "nbconvert_exporter": "python",
      "pygments_lexer": "ipython3",
      "version": "3.6.2"
    },
    "colab": {
      "provenance": [],
      "include_colab_link": true
    }
  },
  "nbformat": 4,
  "nbformat_minor": 0
}