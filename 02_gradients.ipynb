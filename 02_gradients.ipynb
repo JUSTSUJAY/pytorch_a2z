{
  "cells": [
    {
      "cell_type": "markdown",
      "metadata": {
        "id": "view-in-github",
        "colab_type": "text"
      },
      "source": [
        "<a href=\"https://colab.research.google.com/github/JUSTSUJAY/pytorch_a2z/blob/main/02_gradients.ipynb\" target=\"_parent\"><img src=\"https://colab.research.google.com/assets/colab-badge.svg\" alt=\"Open In Colab\"/></a>"
      ]
    },
    {
      "cell_type": "markdown",
      "metadata": {
        "id": "0FMihzCFl3NK"
      },
      "source": [
        "# PyTorch Fundamentals\n",
        "## 2. Tensors with Gradients"
      ]
    },
    {
      "cell_type": "markdown",
      "metadata": {
        "collapsed": true,
        "id": "IyLiJbYul3NP"
      },
      "source": [
        "### Creating Tensor with Gradients\n",
        "- A Variable wraps a Tensor\n",
        "- Allows accumulation of gradients"
      ]
    },
    {
      "cell_type": "code",
      "execution_count": 1,
      "metadata": {
        "id": "qzMllkYJl3NR"
      },
      "outputs": [],
      "source": [
        "import torch"
      ]
    },
    {
      "cell_type": "code",
      "execution_count": 2,
      "metadata": {
        "colab": {
          "base_uri": "https://localhost:8080/"
        },
        "id": "vBUq_Hqkl3NT",
        "outputId": "4f5ba902-e719-4d95-80cc-49f9b7408f94"
      },
      "outputs": [
        {
          "output_type": "execute_result",
          "data": {
            "text/plain": [
              "tensor([[1., 1.],\n",
              "        [1., 1.]], requires_grad=True)"
            ]
          },
          "metadata": {},
          "execution_count": 2
        }
      ],
      "source": [
        "a = torch.ones((2, 2), requires_grad=True)\n",
        "a"
      ]
    },
    {
      "cell_type": "code",
      "execution_count": 3,
      "metadata": {
        "colab": {
          "base_uri": "https://localhost:8080/"
        },
        "id": "UTSrf0_1l3NV",
        "outputId": "ec52c70b-4797-4982-d84f-66552914ff11"
      },
      "outputs": [
        {
          "output_type": "execute_result",
          "data": {
            "text/plain": [
              "True"
            ]
          },
          "metadata": {},
          "execution_count": 3
        }
      ],
      "source": [
        "a.requires_grad"
      ]
    },
    {
      "cell_type": "code",
      "execution_count": 4,
      "metadata": {
        "id": "M6zc6ilYl3NW"
      },
      "outputs": [],
      "source": [
        "# Not a variable\n",
        "no_gradient = torch.ones(2, 2)"
      ]
    },
    {
      "cell_type": "code",
      "execution_count": 5,
      "metadata": {
        "colab": {
          "base_uri": "https://localhost:8080/"
        },
        "id": "yIn_p4XCl3NW",
        "outputId": "532a71d4-1724-4fab-bcd6-7dbdbea27a8e"
      },
      "outputs": [
        {
          "output_type": "execute_result",
          "data": {
            "text/plain": [
              "False"
            ]
          },
          "metadata": {},
          "execution_count": 5
        }
      ],
      "source": [
        "no_gradient.requires_grad"
      ]
    },
    {
      "cell_type": "code",
      "execution_count": 6,
      "metadata": {
        "colab": {
          "base_uri": "https://localhost:8080/"
        },
        "id": "y8uTSSWSl3NX",
        "outputId": "76145b7c-262f-465e-ccc9-f8c61ba1274c"
      },
      "outputs": [
        {
          "output_type": "stream",
          "name": "stdout",
          "text": [
            "tensor([[2., 2.],\n",
            "        [2., 2.]], grad_fn=<AddBackward0>)\n",
            "tensor([[2., 2.],\n",
            "        [2., 2.]], grad_fn=<AddBackward0>)\n"
          ]
        }
      ],
      "source": [
        "# Behaves similarly to tensors\n",
        "b = torch.ones((2, 2), requires_grad=True)\n",
        "print(a + b)\n",
        "print(torch.add(a, b))"
      ]
    },
    {
      "cell_type": "code",
      "execution_count": 7,
      "metadata": {
        "colab": {
          "base_uri": "https://localhost:8080/"
        },
        "id": "0ZySIl0Al3NX",
        "outputId": "611a49d8-a29b-4e90-f2f8-bc606a5c16cb"
      },
      "outputs": [
        {
          "output_type": "stream",
          "name": "stdout",
          "text": [
            "tensor([[1., 1.],\n",
            "        [1., 1.]], grad_fn=<MulBackward0>)\n",
            "tensor([[1., 1.],\n",
            "        [1., 1.]], grad_fn=<MulBackward0>)\n"
          ]
        }
      ],
      "source": [
        "print(a * b)\n",
        "print(torch.mul(a, b))"
      ]
    },
    {
      "cell_type": "markdown",
      "metadata": {
        "id": "SvBi-cO_l3NY"
      },
      "source": [
        "### Manually and Automatically Calculating Gradients"
      ]
    },
    {
      "cell_type": "markdown",
      "metadata": {
        "id": "iD79Ee7-l3NY"
      },
      "source": [
        "**What exactly is `requires_grad`?**\n",
        "- Allows calculation of gradients w.r.t. the variable"
      ]
    },
    {
      "cell_type": "markdown",
      "metadata": {
        "id": "OurXChXzl3NZ"
      },
      "source": [
        "$$y_i = 5(x_i+1)^2$$"
      ]
    },
    {
      "cell_type": "code",
      "execution_count": 8,
      "metadata": {
        "colab": {
          "base_uri": "https://localhost:8080/"
        },
        "id": "BW8uuJxwl3NZ",
        "outputId": "f55ff914-4334-45b9-a2f7-0c9be94b58b5"
      },
      "outputs": [
        {
          "output_type": "execute_result",
          "data": {
            "text/plain": [
              "tensor([1., 1.], requires_grad=True)"
            ]
          },
          "metadata": {},
          "execution_count": 8
        }
      ],
      "source": [
        "x = torch.ones(2, requires_grad=True)\n",
        "x"
      ]
    },
    {
      "cell_type": "markdown",
      "metadata": {
        "id": "3dRfslrWl3NZ"
      },
      "source": [
        "$$y_i\\bigr\\rvert_{x_i=1} = 5(1 + 1)^2 = 5(2)^2 = 5(4) = 20$$"
      ]
    },
    {
      "cell_type": "code",
      "execution_count": 9,
      "metadata": {
        "colab": {
          "base_uri": "https://localhost:8080/"
        },
        "id": "DMv4VNNUl3Na",
        "outputId": "9bb98d47-2895-41e0-f34f-7850ea61b15d"
      },
      "outputs": [
        {
          "output_type": "execute_result",
          "data": {
            "text/plain": [
              "tensor([20., 20.], grad_fn=<MulBackward0>)"
            ]
          },
          "metadata": {},
          "execution_count": 9
        }
      ],
      "source": [
        "y = 5 * (x + 1) ** 2\n",
        "y"
      ]
    },
    {
      "cell_type": "markdown",
      "metadata": {
        "id": "9iElTM52l3Na"
      },
      "source": [
        "**Backward should be called only on a scalar (i.e. 1-element tensor) or with gradient w.r.t. the variable** and since our y is a 2-element tensor we need to reduce y to a scalar."
      ]
    },
    {
      "cell_type": "markdown",
      "metadata": {
        "id": "lwCrfYlTl3Nb"
      },
      "source": [
        "$$o = \\frac{1}{2}\\sum_i y_i$$"
      ]
    },
    {
      "cell_type": "code",
      "execution_count": 11,
      "metadata": {
        "colab": {
          "base_uri": "https://localhost:8080/"
        },
        "id": "hdykFJ6-l3Nb",
        "outputId": "2042e86e-5f53-424c-a497-db82f9802bbb"
      },
      "outputs": [
        {
          "output_type": "execute_result",
          "data": {
            "text/plain": [
              "tensor(20., grad_fn=<MulBackward0>)"
            ]
          },
          "metadata": {},
          "execution_count": 11
        }
      ],
      "source": [
        "o = (1/2) * torch.sum(y)\n",
        "o"
      ]
    },
    {
      "cell_type": "markdown",
      "metadata": {
        "id": "u1erc4nql3Nb"
      },
      "source": [
        "<center>\n",
        " <strong> y equation:  </strong>   $y_i = 5(x_i+1)^2$\n",
        " </center>"
      ]
    },
    {
      "cell_type": "markdown",
      "metadata": {
        "id": "4Jjy8TFAl3Nc"
      },
      "source": [
        "<center>\n",
        "<strong>o equation: </strong>: $o = \\frac{1}{2}\\sum_i y_i$\n",
        "</center>"
      ]
    },
    {
      "cell_type": "markdown",
      "metadata": {
        "id": "yQuc8ZCVl3Nc"
      },
      "source": [
        "<center>\n",
        "   <strong>Substitute <code>y</code> in <code>o</code>: </strong> $o = \\frac{1}{2} \\sum_i 5(x_i+1)^2$\n",
        "</center>"
      ]
    },
    {
      "cell_type": "markdown",
      "metadata": {
        "id": "IDTJDYUbl3Nc"
      },
      "source": [
        "$$\\frac{\\partial o}{\\partial x_i} = \\frac{1}{2}[10(x_i+1)]$$"
      ]
    },
    {
      "cell_type": "markdown",
      "metadata": {
        "id": "973csgZll3Nc"
      },
      "source": [
        "$$\\frac{\\partial o}{\\partial x_i}\\bigr\\rvert_{x_i=1} = \\frac{1}{2}[10(1 + 1)] = \\frac{10}{2}(2) = 10$$"
      ]
    },
    {
      "cell_type": "code",
      "execution_count": 12,
      "metadata": {
        "id": "yz_Na4CBl3Nd"
      },
      "outputs": [],
      "source": [
        "o.backward()"
      ]
    },
    {
      "cell_type": "code",
      "execution_count": 13,
      "metadata": {
        "colab": {
          "base_uri": "https://localhost:8080/"
        },
        "id": "8oDQIB_Il3Nd",
        "outputId": "53e25e9e-7bd4-4d26-864f-d12a0cd965ad"
      },
      "outputs": [
        {
          "output_type": "execute_result",
          "data": {
            "text/plain": [
              "tensor([10., 10.])"
            ]
          },
          "metadata": {},
          "execution_count": 13
        }
      ],
      "source": [
        "x.grad"
      ]
    },
    {
      "cell_type": "code",
      "execution_count": 14,
      "metadata": {
        "colab": {
          "base_uri": "https://localhost:8080/"
        },
        "id": "NKLsKkEHl3Nd",
        "outputId": "4c88e3b8-2d9f-45f9-b30a-ce8e60656aed"
      },
      "outputs": [
        {
          "output_type": "execute_result",
          "data": {
            "text/plain": [
              "True"
            ]
          },
          "metadata": {},
          "execution_count": 14
        }
      ],
      "source": [
        "x.requires_grad"
      ]
    },
    {
      "cell_type": "code",
      "execution_count": 15,
      "metadata": {
        "colab": {
          "base_uri": "https://localhost:8080/"
        },
        "id": "3ULoTFHEl3Ne",
        "outputId": "1417efa4-2509-4519-d0b5-4cc5c1b20088"
      },
      "outputs": [
        {
          "output_type": "execute_result",
          "data": {
            "text/plain": [
              "True"
            ]
          },
          "metadata": {},
          "execution_count": 15
        }
      ],
      "source": [
        "y.requires_grad"
      ]
    },
    {
      "cell_type": "code",
      "execution_count": 16,
      "metadata": {
        "colab": {
          "base_uri": "https://localhost:8080/"
        },
        "id": "rbEyn5z6l3Ne",
        "outputId": "2054b7c3-9942-43b9-881d-98f4c351427f"
      },
      "outputs": [
        {
          "output_type": "execute_result",
          "data": {
            "text/plain": [
              "True"
            ]
          },
          "metadata": {},
          "execution_count": 16
        }
      ],
      "source": [
        "o.requires_grad"
      ]
    },
    {
      "cell_type": "markdown",
      "metadata": {
        "id": "6r7AFT8vl3Ne"
      },
      "source": [
        "---\n",
        "# Summary\n",
        "- Tensor with Gradients\n",
        "    - Wraps a tensor for gradient accumulation\n",
        "- Gradients\n",
        "    - Define original equation\n",
        "    - Substitute equation with `x` values\n",
        "    - Reduce to scalar output, `o` through `mean`\n",
        "    - Calculate gradients with `o.backward()`\n",
        "    - Then access gradients of the `x` variable through `x.grad`"
      ]
    }
  ],
  "metadata": {
    "anaconda-cloud": {},
    "kernelspec": {
      "display_name": "Python 3",
      "language": "python",
      "name": "python3"
    },
    "language_info": {
      "codemirror_mode": {
        "name": "ipython",
        "version": 3
      },
      "file_extension": ".py",
      "mimetype": "text/x-python",
      "name": "python",
      "nbconvert_exporter": "python",
      "pygments_lexer": "ipython3",
      "version": "3.5.5"
    },
    "colab": {
      "provenance": [],
      "include_colab_link": true
    }
  },
  "nbformat": 4,
  "nbformat_minor": 0
}